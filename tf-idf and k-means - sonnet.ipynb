{
 "cells": [
  {
   "cell_type": "code",
   "execution_count": 1,
   "metadata": {},
   "outputs": [],
   "source": [
    "import re\n",
    "import string \n",
    "import pandas as pd\n",
    "from functools import reduce\n",
    "from math import log\n"
   ]
  },
  {
   "cell_type": "code",
   "execution_count": 2,
   "metadata": {},
   "outputs": [],
   "source": [
    "corpus = \"\"\" \n",
    "From fairest creatures we desire increase,\n",
    "That thereby beauty's rose might never die,\n",
    "But as the riper should by time decease,\n",
    "His tender heir might bear his memory:\n",
    "But thou, contracted to thine own bright eyes,\n",
    "Feed'st thy light'st flame with self-substantial fuel,\n",
    "Making a famine where abundance lies,\n",
    "Thyself thy foe, to thy sweet self too cruel.\n",
    "Thou that art now the world's fresh ornament\n",
    "And only herald to the gaudy spring,\n",
    "Within thine own bud buriest thy content\n",
    "And, tender churl, makest waste in niggarding.\n",
    "Pity the world, or else this glutton be,\n",
    "To eat the world's due, by the grave and thee.\n",
    "\n",
    "\"\"\". split(\"\\n\")[1:-1]"
   ]
  },
  {
   "cell_type": "code",
   "execution_count": 3,
   "metadata": {},
   "outputs": [
    {
     "name": "stdout",
     "output_type": "stream",
     "text": [
      "['from', 'fairest', 'creatures', 'we', 'desire', 'increase,']\n",
      "['that', 'thereby', \"beauty's\", 'rose', 'might', 'never', 'die,']\n",
      "['but', 'as', 'the', 'riper', 'should', 'by', 'time', 'decease,']\n"
     ]
    }
   ],
   "source": [
    "l_a = corpus[0].lower().split()\n",
    "l_b = corpus[1].lower().split()\n",
    "l_c = corpus[2].lower().split()\n",
    "\n",
    "\n",
    "print(l_a)\n",
    "print(l_b)\n",
    "print(l_c)\n"
   ]
  },
  {
   "cell_type": "code",
   "execution_count": 4,
   "metadata": {},
   "outputs": [
    {
     "name": "stdout",
     "output_type": "stream",
     "text": [
      "set(['desire', 'we', 'from', 'decease,', 'thereby', 'that', 'rose', 'never', 'increase,', \"beauty's\", 'should', 'by', 'riper', 'as', 'but', 'die,', 'time', 'the', 'might', 'fairest', 'creatures'])\n"
     ]
    }
   ],
   "source": [
    "word_set = set(l_a).union(set(l_b)).union(set(l_c))\n",
    "print(word_set)"
   ]
  },
  {
   "cell_type": "code",
   "execution_count": 5,
   "metadata": {},
   "outputs": [
    {
     "data": {
      "text/html": [
       "<div>\n",
       "<style scoped>\n",
       "    .dataframe tbody tr th:only-of-type {\n",
       "        vertical-align: middle;\n",
       "    }\n",
       "\n",
       "    .dataframe tbody tr th {\n",
       "        vertical-align: top;\n",
       "    }\n",
       "\n",
       "    .dataframe thead th {\n",
       "        text-align: right;\n",
       "    }\n",
       "</style>\n",
       "<table border=\"1\" class=\"dataframe\">\n",
       "  <thead>\n",
       "    <tr style=\"text-align: right;\">\n",
       "      <th></th>\n",
       "      <th>as</th>\n",
       "      <th>beauty's</th>\n",
       "      <th>but</th>\n",
       "      <th>by</th>\n",
       "      <th>creatures</th>\n",
       "      <th>decease,</th>\n",
       "      <th>desire</th>\n",
       "      <th>die,</th>\n",
       "      <th>fairest</th>\n",
       "      <th>from</th>\n",
       "      <th>...</th>\n",
       "      <th>might</th>\n",
       "      <th>never</th>\n",
       "      <th>riper</th>\n",
       "      <th>rose</th>\n",
       "      <th>should</th>\n",
       "      <th>that</th>\n",
       "      <th>the</th>\n",
       "      <th>thereby</th>\n",
       "      <th>time</th>\n",
       "      <th>we</th>\n",
       "    </tr>\n",
       "  </thead>\n",
       "  <tbody>\n",
       "    <tr>\n",
       "      <th>0</th>\n",
       "      <td>0</td>\n",
       "      <td>0</td>\n",
       "      <td>0</td>\n",
       "      <td>0</td>\n",
       "      <td>1</td>\n",
       "      <td>0</td>\n",
       "      <td>1</td>\n",
       "      <td>0</td>\n",
       "      <td>1</td>\n",
       "      <td>1</td>\n",
       "      <td>...</td>\n",
       "      <td>0</td>\n",
       "      <td>0</td>\n",
       "      <td>0</td>\n",
       "      <td>0</td>\n",
       "      <td>0</td>\n",
       "      <td>0</td>\n",
       "      <td>0</td>\n",
       "      <td>0</td>\n",
       "      <td>0</td>\n",
       "      <td>1</td>\n",
       "    </tr>\n",
       "    <tr>\n",
       "      <th>1</th>\n",
       "      <td>0</td>\n",
       "      <td>1</td>\n",
       "      <td>0</td>\n",
       "      <td>0</td>\n",
       "      <td>0</td>\n",
       "      <td>0</td>\n",
       "      <td>0</td>\n",
       "      <td>1</td>\n",
       "      <td>0</td>\n",
       "      <td>0</td>\n",
       "      <td>...</td>\n",
       "      <td>1</td>\n",
       "      <td>1</td>\n",
       "      <td>0</td>\n",
       "      <td>1</td>\n",
       "      <td>0</td>\n",
       "      <td>1</td>\n",
       "      <td>0</td>\n",
       "      <td>1</td>\n",
       "      <td>0</td>\n",
       "      <td>0</td>\n",
       "    </tr>\n",
       "    <tr>\n",
       "      <th>2</th>\n",
       "      <td>1</td>\n",
       "      <td>0</td>\n",
       "      <td>1</td>\n",
       "      <td>1</td>\n",
       "      <td>0</td>\n",
       "      <td>1</td>\n",
       "      <td>0</td>\n",
       "      <td>0</td>\n",
       "      <td>0</td>\n",
       "      <td>0</td>\n",
       "      <td>...</td>\n",
       "      <td>0</td>\n",
       "      <td>0</td>\n",
       "      <td>1</td>\n",
       "      <td>0</td>\n",
       "      <td>1</td>\n",
       "      <td>0</td>\n",
       "      <td>1</td>\n",
       "      <td>0</td>\n",
       "      <td>1</td>\n",
       "      <td>0</td>\n",
       "    </tr>\n",
       "  </tbody>\n",
       "</table>\n",
       "<p>3 rows × 21 columns</p>\n",
       "</div>"
      ],
      "text/plain": [
       "   as  beauty's  but  by  creatures  decease,  desire  die,  fairest  from  \\\n",
       "0   0         0    0   0          1         0       1     0        1     1   \n",
       "1   0         1    0   0          0         0       0     1        0     0   \n",
       "2   1         0    1   1          0         1       0     0        0     0   \n",
       "\n",
       "  ...  might  never  riper  rose  should  that  the  thereby  time  we  \n",
       "0 ...      0      0      0     0       0     0    0        0     0   1  \n",
       "1 ...      1      1      0     1       0     1    0        1     0   0  \n",
       "2 ...      0      0      1     0       1     0    1        0     1   0  \n",
       "\n",
       "[3 rows x 21 columns]"
      ]
     },
     "execution_count": 5,
     "metadata": {},
     "output_type": "execute_result"
    }
   ],
   "source": [
    "word_dict_a = dict.fromkeys(word_set, 0)\n",
    "word_dict_b = dict.fromkeys(word_set, 0)\n",
    "word_dict_c = dict.fromkeys(word_set, 0)\n",
    "\n",
    "\n",
    "for word in l_a:\n",
    "    word_dict_a[word] += 1 \n",
    "\n",
    "for word in l_b:\n",
    "    word_dict_b[word] += 1 \n",
    "\n",
    "for word in l_c:\n",
    "    word_dict_c[word] += 1 \n",
    "\n",
    "pd.DataFrame([word_dict_a, word_dict_b, word_dict_c])"
   ]
  },
  {
   "cell_type": "code",
   "execution_count": 6,
   "metadata": {},
   "outputs": [],
   "source": [
    "def compute_tf(word_dict, l):\n",
    "    tf = {}\n",
    "    sum_nk = len(l)\n",
    "    for word, count in word_dict.items():\n",
    "        tf[word] =  count / sum_nk\n",
    "    return tf"
   ]
  },
  {
   "cell_type": "code",
   "execution_count": 7,
   "metadata": {},
   "outputs": [],
   "source": [
    "tf_a = compute_tf(word_dict_a, l_a)\n",
    "tf_b = compute_tf(word_dict_b, l_b)\n",
    "tf_c = compute_tf(word_dict_c, l_c)"
   ]
  },
  {
   "cell_type": "code",
   "execution_count": 8,
   "metadata": {},
   "outputs": [],
   "source": [
    "def compute_idf(strings_list):\n",
    "    n  = len(strings_list)\n",
    "    idf = dict.fromkeys(strings_list[0].keys(), 0)\n",
    "    for l in strings_list:\n",
    "        for word, count in l.items():\n",
    "            if count > 0:\n",
    "                idf[word] += 1\n",
    "                \n",
    "    for word, v in idf.items():\n",
    "        idf[word] = log(n / float(v))\n",
    "    return idf"
   ]
  },
  {
   "cell_type": "code",
   "execution_count": 9,
   "metadata": {},
   "outputs": [],
   "source": [
    "idf = compute_idf([word_dict_a, word_dict_b, word_dict_c                   \n",
    "                  ])"
   ]
  },
  {
   "cell_type": "code",
   "execution_count": 10,
   "metadata": {},
   "outputs": [],
   "source": [
    "def compute_tf_idf(tf, idf):\n",
    "    tf_idf = dict.fromkeys(tf.keys(), 0)\n",
    "    for word, v in tf.items():\n",
    "        tf_idf[word] = v * idf[word]\n",
    "    return tf_idf"
   ]
  },
  {
   "cell_type": "code",
   "execution_count": 11,
   "metadata": {},
   "outputs": [],
   "source": [
    "tf_idf_a = compute_tf_idf(tf_a, idf)\n",
    "tf_idf_b = compute_tf_idf(tf_b, idf)\n",
    "tf_idf_c = compute_tf_idf(tf_c, idf)"
   ]
  },
  {
   "cell_type": "code",
   "execution_count": 12,
   "metadata": {},
   "outputs": [
    {
     "data": {
      "text/html": [
       "<div>\n",
       "<style scoped>\n",
       "    .dataframe tbody tr th:only-of-type {\n",
       "        vertical-align: middle;\n",
       "    }\n",
       "\n",
       "    .dataframe tbody tr th {\n",
       "        vertical-align: top;\n",
       "    }\n",
       "\n",
       "    .dataframe thead th {\n",
       "        text-align: right;\n",
       "    }\n",
       "</style>\n",
       "<table border=\"1\" class=\"dataframe\">\n",
       "  <thead>\n",
       "    <tr style=\"text-align: right;\">\n",
       "      <th></th>\n",
       "      <th>as</th>\n",
       "      <th>beauty's</th>\n",
       "      <th>but</th>\n",
       "      <th>by</th>\n",
       "      <th>creatures</th>\n",
       "      <th>decease,</th>\n",
       "      <th>desire</th>\n",
       "      <th>die,</th>\n",
       "      <th>fairest</th>\n",
       "      <th>from</th>\n",
       "      <th>...</th>\n",
       "      <th>might</th>\n",
       "      <th>never</th>\n",
       "      <th>riper</th>\n",
       "      <th>rose</th>\n",
       "      <th>should</th>\n",
       "      <th>that</th>\n",
       "      <th>the</th>\n",
       "      <th>thereby</th>\n",
       "      <th>time</th>\n",
       "      <th>we</th>\n",
       "    </tr>\n",
       "  </thead>\n",
       "  <tbody>\n",
       "    <tr>\n",
       "      <th>0</th>\n",
       "      <td>0.0</td>\n",
       "      <td>0.0</td>\n",
       "      <td>0.0</td>\n",
       "      <td>0.0</td>\n",
       "      <td>0.0</td>\n",
       "      <td>0.0</td>\n",
       "      <td>0.0</td>\n",
       "      <td>0.0</td>\n",
       "      <td>0.0</td>\n",
       "      <td>0.0</td>\n",
       "      <td>...</td>\n",
       "      <td>0.0</td>\n",
       "      <td>0.0</td>\n",
       "      <td>0.0</td>\n",
       "      <td>0.0</td>\n",
       "      <td>0.0</td>\n",
       "      <td>0.0</td>\n",
       "      <td>0.0</td>\n",
       "      <td>0.0</td>\n",
       "      <td>0.0</td>\n",
       "      <td>0.0</td>\n",
       "    </tr>\n",
       "    <tr>\n",
       "      <th>1</th>\n",
       "      <td>0.0</td>\n",
       "      <td>0.0</td>\n",
       "      <td>0.0</td>\n",
       "      <td>0.0</td>\n",
       "      <td>0.0</td>\n",
       "      <td>0.0</td>\n",
       "      <td>0.0</td>\n",
       "      <td>0.0</td>\n",
       "      <td>0.0</td>\n",
       "      <td>0.0</td>\n",
       "      <td>...</td>\n",
       "      <td>0.0</td>\n",
       "      <td>0.0</td>\n",
       "      <td>0.0</td>\n",
       "      <td>0.0</td>\n",
       "      <td>0.0</td>\n",
       "      <td>0.0</td>\n",
       "      <td>0.0</td>\n",
       "      <td>0.0</td>\n",
       "      <td>0.0</td>\n",
       "      <td>0.0</td>\n",
       "    </tr>\n",
       "    <tr>\n",
       "      <th>2</th>\n",
       "      <td>0.0</td>\n",
       "      <td>0.0</td>\n",
       "      <td>0.0</td>\n",
       "      <td>0.0</td>\n",
       "      <td>0.0</td>\n",
       "      <td>0.0</td>\n",
       "      <td>0.0</td>\n",
       "      <td>0.0</td>\n",
       "      <td>0.0</td>\n",
       "      <td>0.0</td>\n",
       "      <td>...</td>\n",
       "      <td>0.0</td>\n",
       "      <td>0.0</td>\n",
       "      <td>0.0</td>\n",
       "      <td>0.0</td>\n",
       "      <td>0.0</td>\n",
       "      <td>0.0</td>\n",
       "      <td>0.0</td>\n",
       "      <td>0.0</td>\n",
       "      <td>0.0</td>\n",
       "      <td>0.0</td>\n",
       "    </tr>\n",
       "  </tbody>\n",
       "</table>\n",
       "<p>3 rows × 21 columns</p>\n",
       "</div>"
      ],
      "text/plain": [
       "    as  beauty's  but   by  creatures  decease,  desire  die,  fairest  from  \\\n",
       "0  0.0       0.0  0.0  0.0        0.0       0.0     0.0   0.0      0.0   0.0   \n",
       "1  0.0       0.0  0.0  0.0        0.0       0.0     0.0   0.0      0.0   0.0   \n",
       "2  0.0       0.0  0.0  0.0        0.0       0.0     0.0   0.0      0.0   0.0   \n",
       "\n",
       "  ...   might  never  riper  rose  should  that  the  thereby  time   we  \n",
       "0 ...     0.0    0.0    0.0   0.0     0.0   0.0  0.0      0.0   0.0  0.0  \n",
       "1 ...     0.0    0.0    0.0   0.0     0.0   0.0  0.0      0.0   0.0  0.0  \n",
       "2 ...     0.0    0.0    0.0   0.0     0.0   0.0  0.0      0.0   0.0  0.0  \n",
       "\n",
       "[3 rows x 21 columns]"
      ]
     },
     "execution_count": 12,
     "metadata": {},
     "output_type": "execute_result"
    }
   ],
   "source": [
    "pd.DataFrame([tf_idf_a, tf_idf_b, tf_idf_c])"
   ]
  },
  {
   "cell_type": "code",
   "execution_count": 13,
   "metadata": {},
   "outputs": [],
   "source": [
    "from sklearn.feature_extraction.text import TfidfVectorizer\n",
    "from sklearn.cluster import KMeans"
   ]
  },
  {
   "cell_type": "code",
   "execution_count": 14,
   "metadata": {},
   "outputs": [],
   "source": [
    "all_text = \"\"\"\n",
    "From fairest creatures we desire increase,\n",
    "That thereby beauty's rose might never die,\n",
    "But as the riper should by time decease,\n",
    "His tender heir might bear his memory:\n",
    "But thou, contracted to thine own bright eyes,\n",
    "Feed'st thy light'st flame with self-substantial fuel,\n",
    "Making a famine where abundance lies,\n",
    "Thyself thy foe, to thy sweet self too cruel.\n",
    "Thou that art now the world's fresh ornament\n",
    "And only herald to the gaudy spring,\n",
    "Within thine own bud buriest thy content\n",
    "And, tender churl, makest waste in niggarding.\n",
    "Pity the world, or else this glutton be,\n",
    "To eat the world's due, by the grave and thee.\n",
    "\n",
    "\"\"\".split(\"\\n\")[1:-1]"
   ]
  },
  {
   "cell_type": "code",
   "execution_count": 15,
   "metadata": {},
   "outputs": [],
   "source": [
    "def preprocessing(line):\n",
    "    line = line.lower()\n",
    "    line = re.sub(r\"[{}]\".format(string.punctuation), \" \", line)\n",
    "    return line"
   ]
  },
  {
   "cell_type": "code",
   "execution_count": 16,
   "metadata": {},
   "outputs": [],
   "source": [
    "tfidf_vectorizer = TfidfVectorizer(preprocessor=preprocessing)\n",
    "tfidf = tfidf_vectorizer.fit_transform(all_text)"
   ]
  },
  {
   "cell_type": "code",
   "execution_count": 17,
   "metadata": {},
   "outputs": [],
   "source": [
    "kmeans = KMeans(n_clusters = 2).fit(tfidf)"
   ]
  },
  {
   "cell_type": "code",
   "execution_count": 18,
   "metadata": {},
   "outputs": [
    {
     "data": {
      "text/plain": [
       "array([0, 0], dtype=int32)"
      ]
     },
     "execution_count": 18,
     "metadata": {},
     "output_type": "execute_result"
    }
   ],
   "source": [
    "lines_for_predicting = [\"Pity the world, or else this glutton be,\",\n",
    "                        \"But as the riper should by time decease,\"\n",
    "                       ]\n",
    "kmeans.predict(tfidf_vectorizer.transform(lines_for_predicting))"
   ]
  },
  {
   "cell_type": "code",
   "execution_count": 19,
   "metadata": {},
   "outputs": [
    {
     "data": {
      "text/plain": [
       "array([0, 0], dtype=int32)"
      ]
     },
     "execution_count": 19,
     "metadata": {},
     "output_type": "execute_result"
    }
   ],
   "source": [
    "lines_for_predicting = [\"But as the riper should by time decease,\",\n",
    "                        \"But as the riper should by time decease,\"\n",
    "                       ]\n",
    "kmeans.predict(tfidf_vectorizer.transform(lines_for_predicting))"
   ]
  },
  {
   "cell_type": "code",
   "execution_count": 20,
   "metadata": {},
   "outputs": [
    {
     "data": {
      "text/plain": [
       "array([0, 0], dtype=int32)"
      ]
     },
     "execution_count": 20,
     "metadata": {},
     "output_type": "execute_result"
    }
   ],
   "source": [
    "lines_for_predicting = [\"From fairest creatures we desire increase,\",\n",
    "                        \"But as the riper should by time decease,\"\n",
    "                       ]\n",
    "kmeans.predict(tfidf_vectorizer.transform(lines_for_predicting))"
   ]
  },
  {
   "cell_type": "code",
   "execution_count": 21,
   "metadata": {},
   "outputs": [
    {
     "data": {
      "text/plain": [
       "array([0, 0], dtype=int32)"
      ]
     },
     "execution_count": 21,
     "metadata": {},
     "output_type": "execute_result"
    }
   ],
   "source": [
    "lines_for_predicting = [\"tf and idf is awesome!\", \"some androids is there\"]\n",
    "kmeans.predict(tfidf_vectorizer.transform(lines_for_predicting))"
   ]
  },
  {
   "cell_type": "markdown",
   "metadata": {},
   "source": [
    "Reference : https://medium.com/@MSalnikov/text-clustering-with-k-means-and-tf-idf-f099bcf95183"
   ]
  }
 ],
 "metadata": {
  "kernelspec": {
   "display_name": "keras_tf",
   "language": "python",
   "name": "keras_tf"
  },
  "language_info": {
   "codemirror_mode": {
    "name": "ipython",
    "version": 2
   },
   "file_extension": ".py",
   "mimetype": "text/x-python",
   "name": "python",
   "nbconvert_exporter": "python",
   "pygments_lexer": "ipython2",
   "version": "2.7.12"
  }
 },
 "nbformat": 4,
 "nbformat_minor": 2
}
